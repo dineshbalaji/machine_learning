{
 "cells": [
  {
   "cell_type": "markdown",
   "metadata": {},
   "source": [
    "## Decision Tree"
   ]
  },
  {
   "cell_type": "code",
   "execution_count": 1,
   "metadata": {},
   "outputs": [],
   "source": [
    "from sklearn import datasets\n",
    "import numpy as np\n",
    "from sklearn.model_selection import train_test_split\n",
    "\n",
    "X, y = datasets.load_breast_cancer(return_X_y=True)\n",
    "X_train, X_test, y_train, y_test = train_test_split(X,y, test_size=0.2, random_state=42)"
   ]
  },
  {
   "cell_type": "code",
   "execution_count": 2,
   "metadata": {},
   "outputs": [
    {
     "data": {
      "text/plain": [
       "array([212, 357])"
      ]
     },
     "execution_count": 2,
     "metadata": {},
     "output_type": "execute_result"
    }
   ],
   "source": [
    "y\n",
    "np.bincount(y)"
   ]
  },
  {
   "cell_type": "code",
   "execution_count": 3,
   "metadata": {},
   "outputs": [],
   "source": [
    "# Prepare Node class to presist node info\n",
    "\n",
    "class Node:\n",
    "    def __init__(self,spliting_feature_idx=None, spliting_label=None, left=None,right=None,*, value=None):\n",
    "        self.spliting_feature_idx= spliting_feature_idx\n",
    "        self.spliting_label= spliting_label\n",
    "        self.left= left\n",
    "        self.right= right\n",
    "        self.value= value\n",
    "\n",
    "    def is_leaf_node(self):\n",
    "        return self.value is not None\n",
    "    \n"
   ]
  },
  {
   "cell_type": "code",
   "execution_count": 4,
   "metadata": {},
   "outputs": [],
   "source": [
    "from collections import Counter\n",
    "\n",
    "max_depth = 50\n",
    "min_samples_split = 2\n",
    "\n",
    "def fit(X,y):\n",
    "    root_node = branches(X,y)\n",
    "    return root_node\n",
    "\n",
    "\n",
    "def branches(X,y, depth=0):\n",
    "\n",
    "    n_samples = X.shape[0]\n",
    "    n_labels = len(np.unique(y))\n",
    "\n",
    "    # check the stopping criteria\n",
    "    if (depth>= max_depth or n_labels==1 or n_samples<min_samples_split):\n",
    "        leaf_value = most_common_label(y)\n",
    "        return Node(value=leaf_value)\n",
    "    \n",
    "    \n",
    "    feature_idx,label,left_idx,right_idx = find_best_split(X,y)\n",
    "\n",
    "    # recursively go deep to reach till end of left & right leaf node\n",
    "    left_node = branches(X[left_idx, :], y[left_idx], depth+1) if len(left_idx) >0 else None\n",
    "    right_node = branches(X[right_idx, :], y[right_idx], depth+1) if len(right_idx) >0 else None\n",
    "\n",
    "    # prepare node and reslove recursive stock backword\n",
    "    return Node(feature_idx, label, left_node, right_node)\n",
    "\n",
    "\n",
    "def most_common_label(y):\n",
    "    counter = Counter(y)\n",
    "    value = counter.most_common(1)[0][0]\n",
    "    return value\n",
    "\n",
    "\n",
    "def find_best_split(X,y):\n",
    "    parent_E = entropy(y)\n",
    "    features = X.shape[1]\n",
    "\n",
    "    best_split_info = None\n",
    "    best_IG = -1\n",
    "    \n",
    "    for f_idx in range(features):\n",
    "        feature = X[:, f_idx] # slice particular feature\n",
    "        labels = np.unique(feature)\n",
    "\n",
    "        for label in labels:\n",
    "            left_idx, right_idx = split_column(feature,label)\n",
    "\n",
    "            l_E = entropy(y[left_idx])\n",
    "            r_E = entropy(y[right_idx])\n",
    "            l_W = len(left_idx) / len(y)\n",
    "            r_W = len(right_idx) / len(y)\n",
    "            \n",
    "            child_E = (l_W * l_E)+(r_W * r_E)\n",
    "            IG = parent_E - child_E\n",
    "\n",
    "            if(best_IG < IG):\n",
    "                best_IG = IG\n",
    "                best_split_info = (f_idx, label, left_idx,right_idx)\n",
    "\n",
    "    \n",
    "    return best_split_info\n",
    "\n",
    "def entropy(y):\n",
    "    # y contain only 0 and 1. result - [no_zeros, no_ones]\n",
    "    labels_count = np.bincount(y) # skip zero since zero always px multiply\n",
    "    px = labels_count / len(y) \n",
    "    return -np.sum([p * np.log(p) for p in px if p>0])\n",
    "\n",
    "def split_column(cols, value):\n",
    "    left_idx = np.argwhere(cols<=value).flatten()\n",
    "    right_idx = np.argwhere(cols>value).flatten()\n",
    "    return left_idx, right_idx\n",
    "\n",
    "\n",
    "\n",
    "root_node = fit(X_train,y_train)"
   ]
  },
  {
   "cell_type": "code",
   "execution_count": 13,
   "metadata": {},
   "outputs": [],
   "source": [
    "def predict(X, tree):\n",
    "    return np.array([traverse_tree(x, tree) for x in X])\n",
    "\n",
    "def traverse_tree(x, node):\n",
    "    if node.is_leaf_node():\n",
    "        return node.value\n",
    "    \n",
    "    if x[node.spliting_feature_idx] <= node.spliting_label:\n",
    "        return traverse_tree(x, node.left)\n",
    "    return traverse_tree(x, node.right)\n",
    "    "
   ]
  },
  {
   "cell_type": "code",
   "execution_count": 19,
   "metadata": {},
   "outputs": [
    {
     "name": "stdout",
     "output_type": "stream",
     "text": [
      "0.9298245614035088\n"
     ]
    }
   ],
   "source": [
    "predictions = predict(X_test,root_node)\n",
    "\n",
    "def accuracy(y_test, y_pred):\n",
    "    return np.sum(y_test == y_pred) / len(y_test)\n",
    "\n",
    "acc = accuracy(y_test, predictions)\n",
    "print(acc)"
   ]
  },
  {
   "cell_type": "markdown",
   "metadata": {},
   "source": [
    "## Random Forest \n",
    "\n",
    "#### collection Decision Tree created forest here :P "
   ]
  },
  {
   "cell_type": "code",
   "execution_count": 16,
   "metadata": {},
   "outputs": [
    {
     "data": {
      "text/plain": [
       "[<__main__.Node at 0x13cafa7d0>,\n",
       " <__main__.Node at 0x13cff5490>,\n",
       " <__main__.Node at 0x112a5bc90>,\n",
       " <__main__.Node at 0x13d0835d0>,\n",
       " <__main__.Node at 0x13d082f10>,\n",
       " <__main__.Node at 0x13caf1490>,\n",
       " <__main__.Node at 0x13c88e350>,\n",
       " <__main__.Node at 0x13d0962d0>,\n",
       " <__main__.Node at 0x13d096ed0>,\n",
       " <__main__.Node at 0x13d095250>,\n",
       " <__main__.Node at 0x13d096a90>,\n",
       " <__main__.Node at 0x13d0948d0>,\n",
       " <__main__.Node at 0x13d061650>,\n",
       " <__main__.Node at 0x13d0622d0>,\n",
       " <__main__.Node at 0x13d061090>,\n",
       " <__main__.Node at 0x13d061c10>,\n",
       " <__main__.Node at 0x13d08fc50>,\n",
       " <__main__.Node at 0x13d08e190>,\n",
       " <__main__.Node at 0x13d08f490>,\n",
       " <__main__.Node at 0x13d08db10>]"
      ]
     },
     "execution_count": 16,
     "metadata": {},
     "output_type": "execute_result"
    }
   ],
   "source": [
    "# save previous method to dictionary \n",
    "decision_tree_fit = fit\n",
    "decision_tree_predict = predict\n",
    "\n",
    "n_tree = 20\n",
    "def create_forest(X,y):\n",
    "    forest = []\n",
    "    for _ in range(n_tree):\n",
    "         # create random sample data for each tree\n",
    "         n_data = X.shape[0]\n",
    "         idx = np.random.choice(n_data, int(n_data* .7), replace=True)\n",
    "         t = decision_tree_fit(X[idx], y[idx])\n",
    "         forest.append(t)\n",
    "    return forest\n",
    "\n",
    "forest = create_forest(X,y)\n",
    "    "
   ]
  },
  {
   "cell_type": "code",
   "execution_count": 26,
   "metadata": {},
   "outputs": [
    {
     "name": "stdout",
     "output_type": "stream",
     "text": [
      "1.0\n"
     ]
    }
   ],
   "source": [
    "forest_pred = np.swapaxes([decision_tree_predict(X_test, tree) for tree in forest], 0, 1)\n",
    "\n",
    " \n",
    "\n",
    "predictions = np.array([most_common_label(p) for p in forest_pred ])\n",
    "\n",
    "predictions.shape, y_test.shape\n",
    "\n",
    "acc = accuracy(y_test, predictions)\n",
    "print(acc)"
   ]
  },
  {
   "cell_type": "code",
   "execution_count": null,
   "metadata": {},
   "outputs": [],
   "source": []
  }
 ],
 "metadata": {
  "kernelspec": {
   "display_name": "Python 3",
   "language": "python",
   "name": "python3"
  },
  "language_info": {
   "codemirror_mode": {
    "name": "ipython",
    "version": 3
   },
   "file_extension": ".py",
   "mimetype": "text/x-python",
   "name": "python",
   "nbconvert_exporter": "python",
   "pygments_lexer": "ipython3",
   "version": "3.11.4"
  }
 },
 "nbformat": 4,
 "nbformat_minor": 2
}
