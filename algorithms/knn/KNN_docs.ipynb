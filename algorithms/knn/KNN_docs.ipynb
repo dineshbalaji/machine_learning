{
 "cells": [
  {
   "cell_type": "code",
   "execution_count": 25,
   "metadata": {},
   "outputs": [],
   "source": [
    "import numpy as np\n",
    "import matplotlib.pyplot as plt\n",
    "import pandas as pd\n",
    "from sklearn import datasets\n",
    "from sklearn.model_selection import train_test_split    "
   ]
  },
  {
   "cell_type": "code",
   "execution_count": 26,
   "metadata": {},
   "outputs": [],
   "source": [
    "iris = datasets.load_iris()\n",
    "\n",
    "X = iris.data\n",
    "y= iris.target\n",
    "\n",
    "train_X, test_X, train_y, test_y  =train_test_split(X, y, test_size=0.2, random_state=1234)"
   ]
  },
  {
   "cell_type": "code",
   "execution_count": 27,
   "metadata": {},
   "outputs": [
    {
     "name": "stdout",
     "output_type": "stream",
     "text": [
      "(120, 4)\n",
      "(30, 4)\n"
     ]
    }
   ],
   "source": [
    "print(train_X.shape)\n",
    "print(test_X.shape)"
   ]
  },
  {
   "cell_type": "code",
   "execution_count": 23,
   "metadata": {},
   "outputs": [
    {
     "name": "stdout",
     "output_type": "stream",
     "text": [
      "tx (4,)\n",
      "tx (4,)\n",
      "tx (4,)\n",
      "tx (4,)\n",
      "tx (4,)\n",
      "tx (4,)\n",
      "tx (4,)\n",
      "tx (4,)\n",
      "tx (4,)\n",
      "tx (4,)\n",
      "tx (4,)\n",
      "tx (4,)\n",
      "tx (4,)\n",
      "tx (4,)\n",
      "tx (4,)\n",
      "tx (4,)\n",
      "tx (4,)\n",
      "tx (4,)\n",
      "tx (4,)\n",
      "tx (4,)\n",
      "tx (4,)\n",
      "tx (4,)\n",
      "tx (4,)\n",
      "tx (4,)\n",
      "tx (4,)\n",
      "tx (4,)\n",
      "tx (4,)\n",
      "tx (4,)\n",
      "tx (4,)\n",
      "tx (4,)\n"
     ]
    }
   ],
   "source": [
    "\n",
    "\n",
    "# pythagram formula to cal distance c2 = a2 + b2\n",
    "\n"
   ]
  },
  {
   "cell_type": "code",
   "execution_count": null,
   "metadata": {},
   "outputs": [],
   "source": []
  }
 ],
 "metadata": {
  "kernelspec": {
   "display_name": "Python 3",
   "language": "python",
   "name": "python3"
  },
  "language_info": {
   "codemirror_mode": {
    "name": "ipython",
    "version": 3
   },
   "file_extension": ".py",
   "mimetype": "text/x-python",
   "name": "python",
   "nbconvert_exporter": "python",
   "pygments_lexer": "ipython3",
   "version": "3.11.4"
  },
  "orig_nbformat": 4
 },
 "nbformat": 4,
 "nbformat_minor": 2
}
